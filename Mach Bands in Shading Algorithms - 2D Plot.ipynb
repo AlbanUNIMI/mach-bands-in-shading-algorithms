{
  "cells": [
    {
      "cell_type": "markdown",
      "metadata": {},
      "source": [
        "\n",
        "# Mach Bands in Shading Algorithms\n",
        "\n",
        "Questo breve progetto rappresenta un'estensione dell'approfondimento con lo stesso titolo, fatto in ambito universitario per il corso di Principi e Modelli della Percezione AA 2021 - 2022.\n",
        "\n",
        "Il progetto scritto in linguaggio ``Python``, con l'aiuto della libreria ``Matplotlib``, sarà utile ad illustrare come tale libreria gestisce la riproduzione del colore ed ombreggiatura nei plots bidimensionali. \n",
        "\n",
        "Il carattere \"Open Source\" di tale libreria, sarà fondamentale, in un'annessa e più estesa presentazione presente in questa pagina, a studiare ed illustrare come gli algoritmi di ombreggiatura, e le formule di normalizzazione ed interpolazione, vengono implementati lato codice.\n",
        "\n",
        "Nella presentazione estesa, vi sarà anche una parte dedicata ed approffondita inerente le illustrazioni 3D e gli algoritmi di luminanza ed ombreggiatura che le caratterizzano. "
      ]
    },
    {
      "cell_type": "markdown",
      "metadata": {},
      "source": [
        "## Panoramica\n",
        "\n",
        "Cominciamo con l'importazione delle librerie ``Matplotlib`` (utile alla riproduzione dei plots in Python) e ``NumPy`` (per l'esecuzione dei calcoli matematici sui vettori).\n",
        "\n",
        "...."
      ]
    },
    {
      "cell_type": "code",
      "execution_count": null,
      "metadata": {
        "collapsed": false
      },
      "outputs": [],
      "source": [
        "import matplotlib.pyplot as plt\n",
        "import numpy as np"
      ]
    },
    {
      "cell_type": "markdown",
      "metadata": {},
      "source": [
        "## Flat Shading\n",
        "\n",
        "....\n",
        "\n"
      ]
    },
    {
      "cell_type": "code",
      "execution_count": null,
      "metadata": {
        "collapsed": false
      },
      "outputs": [],
      "source": [
        "nrows = 3\n",
        "ncols = 5\n",
        "Z = np.arange(nrows * ncols).reshape(nrows, ncols)\n",
        "x = np.arange(ncols + 1)\n",
        "y = np.arange(nrows + 1)\n",
        "\n",
        "fig, ax = plt.subplots()\n",
        "ax.pcolormesh(x, y, Z, shading='flat', vmin=Z.min(), vmax=Z.max())\n",
        "\n",
        "\n",
        "def _annotate(ax, x, y, title):\n",
        "    # this all gets repeated below:\n",
        "    X, Y = np.meshgrid(x, y)\n",
        "    ax.plot(X.flat, Y.flat, 'o', color='m')\n",
        "    ax.set_xlim(-0.7, 5.2)\n",
        "    ax.set_ylim(-0.7, 3.2)\n",
        "    ax.set_title(title)\n",
        "\n",
        "_annotate(ax, x, y, \"shading='flat'\")\n",
        "\n",
        "plt.show()"
      ]
    },
    {
      "cell_type": "code",
      "execution_count": null,
      "metadata": {
        "collapsed": false
      },
      "outputs": [],
      "source": [
        "fig, ax = plt.subplots(constrained_layout=True)\n",
        "x = np.arange(ncols)\n",
        "y = np.arange(nrows)\n",
        "ax.pcolormesh(x, y, Z, shading='gouraud', vmin=Z.min(), vmax=Z.max())\n",
        "_annotate(ax, x, y, \"shading='gouraud'; X, Y same shape as Z\")\n",
        "\n",
        "plt.show()"
      ]
    },
    {
      "cell_type": "markdown",
      "metadata": {},
      "source": [
        "## References\n",
        "\n",
        "   The use of the following functions, methods, classes and modules is shown\n",
        "   in this example:\n",
        "\n",
        "   - `matplotlib.axes.Axes.pcolormesh` / `matplotlib.pyplot.pcolormesh`\n",
        "\n"
      ]
    }
  ],
  "metadata": {
    "kernelspec": {
      "display_name": "Python 3",
      "language": "python",
      "name": "python3"
    },
    "language_info": {
      "codemirror_mode": {
        "name": "ipython",
        "version": 3
      },
      "file_extension": ".py",
      "mimetype": "text/x-python",
      "name": "python",
      "nbconvert_exporter": "python",
      "pygments_lexer": "ipython3",
      "version": "3.8.13"
    }
  },
  "nbformat": 4,
  "nbformat_minor": 0
}
